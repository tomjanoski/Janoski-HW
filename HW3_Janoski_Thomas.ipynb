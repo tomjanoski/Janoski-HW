{
 "cells": [
  {
   "cell_type": "code",
   "execution_count": 94,
   "id": "4eabc4a2",
   "metadata": {},
   "outputs": [
    {
     "name": "stdout",
     "output_type": "stream",
     "text": [
      "88\n",
      "75.2\n"
     ]
    }
   ],
   "source": [
    "marks= {\"Andy\":88, \"Amy\":66, 'James': 90, 'Jules': 55, 'Arthur': 77}\n",
    "def gradefunction(name):\n",
    "    marks = {\"Andy\":88, \"Amy\":66, 'James': 90, 'Jules': 55, 'Arthur': 77}\n",
    "    for student in marks:\n",
    "        if student==name:\n",
    "            print(marks[student])\n",
    "            break\n",
    "    else:\n",
    "        print(\"this name cannot be found\")\n",
    "        \n",
    "def gradeaverage(marks):\n",
    "    sum=0\n",
    "    for grade in marks.values(): \n",
    "        sum=(sum+(grade))\n",
    "        if (grade)==77:\n",
    "            print (int(sum)/(int(len(marks))))\n",
    "gradefunction(\"Andy\")  \n",
    "gradeaverage(marks)\n"
   ]
  },
  {
   "cell_type": "code",
   "execution_count": 83,
   "id": "e26192f9",
   "metadata": {},
   "outputs": [
    {
     "name": "stdout",
     "output_type": "stream",
     "text": [
      "0 0\n",
      "1 1\n",
      "2 4\n",
      "3 9\n",
      "4 16\n",
      "5 25\n",
      "6 36\n",
      "7 49\n",
      "8 64\n",
      "greater than 8\n"
     ]
    }
   ],
   "source": [
    "def function2(num):\n",
    "    n=0\n",
    "    while n<=num:\n",
    "        print((n),(n**2))\n",
    "        n=n+1\n",
    "    else:\n",
    "        print (\"greater than\", (num))\n",
    "function2(8)"
   ]
  },
  {
   "cell_type": "code",
   "execution_count": 84,
   "id": "6dd40e8c",
   "metadata": {},
   "outputs": [
    {
     "name": "stdout",
     "output_type": "stream",
     "text": [
      "55\n"
     ]
    }
   ],
   "source": [
    "def sumfunction(num):\n",
    "    n=0\n",
    "    sum=0\n",
    "    while n<=num:\n",
    "        sum=sum+n\n",
    "        n=n+1\n",
    "    print (sum)\n",
    "sumfunction(10)"
   ]
  },
  {
   "cell_type": "code",
   "execution_count": 85,
   "id": "c58727db",
   "metadata": {},
   "outputs": [
    {
     "name": "stdout",
     "output_type": "stream",
     "text": [
      "0\n",
      "1\n",
      "3\n",
      "6\n",
      "10\n",
      "15\n",
      "21\n",
      "28\n",
      "36\n"
     ]
    }
   ],
   "source": [
    "def stepfunction(num):\n",
    "    sum=0\n",
    "    n=1\n",
    "    for n in range(num):\n",
    "        sum=sum+n\n",
    "        print (sum)\n",
    "stepfunction(9)"
   ]
  },
  {
   "cell_type": "code",
   "execution_count": 1,
   "id": "25e0e4ee",
   "metadata": {},
   "outputs": [
    {
     "name": "stdout",
     "output_type": "stream",
     "text": [
      "sum is 4950\n",
      "average is 50.0\n",
      "standard deviation is 28.577380332470412\n"
     ]
    }
   ],
   "source": [
    "import numpy\n",
    "n= range(1,100)\n",
    "def info(n):\n",
    "    numbers= range(1,100)\n",
    "    print(\"sum is\", (sum(n)))\n",
    "    print(\"average is\",numpy.average(n))\n",
    "    print(\"standard deviation is\",numpy.std(n))\n",
    "info(n)"
   ]
  },
  {
   "cell_type": "code",
   "execution_count": 11,
   "id": "8304d456",
   "metadata": {},
   "outputs": [
    {
     "name": "stdout",
     "output_type": "stream",
     "text": [
      "10\n"
     ]
    }
   ],
   "source": [
    "def minimum(v1,v2,v3,v4):\n",
    "    minv=v1\n",
    "    if v2<minv:\n",
    "        minv=v2\n",
    "    if v3 <minv:\n",
    "        minv=v3\n",
    "    if v4 <minv:\n",
    "        minv=v4\n",
    "    print(minv)\n",
    "minimum(60,14,56,10)"
   ]
  },
  {
   "cell_type": "code",
   "execution_count": 23,
   "id": "7c528223",
   "metadata": {},
   "outputs": [
    {
     "name": "stdout",
     "output_type": "stream",
     "text": [
      "['one', 'two', 'three']\n"
     ]
    }
   ],
   "source": [
    "def combine(s1,s2,s3):\n",
    "    final=[s1,s2,s3]\n",
    "    print (final)\n",
    "combine(\"one\",\"two\",\"three\")"
   ]
  }
 ],
 "metadata": {
  "kernelspec": {
   "display_name": "Python 3 (ipykernel)",
   "language": "python",
   "name": "python3"
  },
  "language_info": {
   "codemirror_mode": {
    "name": "ipython",
    "version": 3
   },
   "file_extension": ".py",
   "mimetype": "text/x-python",
   "name": "python",
   "nbconvert_exporter": "python",
   "pygments_lexer": "ipython3",
   "version": "3.9.13"
  }
 },
 "nbformat": 4,
 "nbformat_minor": 5
}
