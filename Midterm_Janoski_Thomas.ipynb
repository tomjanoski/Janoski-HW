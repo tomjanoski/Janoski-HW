{
 "cells": [
  {
   "cell_type": "code",
   "execution_count": 659,
   "id": "f611258d",
   "metadata": {},
   "outputs": [],
   "source": [
    "import pandas\n",
    "import json"
   ]
  },
  {
   "cell_type": "code",
   "execution_count": 660,
   "id": "87ce3c18",
   "metadata": {},
   "outputs": [
    {
     "ename": "SyntaxError",
     "evalue": "invalid syntax (2582800833.py, line 2)",
     "output_type": "error",
     "traceback": [
      "\u001b[1;36m  File \u001b[1;32m\"C:\\Users\\Tom\\AppData\\Local\\Temp\\ipykernel_2924\\2582800833.py\"\u001b[1;36m, line \u001b[1;32m2\u001b[0m\n\u001b[1;33m    print (f.read())`\u001b[0m\n\u001b[1;37m                    ^\u001b[0m\n\u001b[1;31mSyntaxError\u001b[0m\u001b[1;31m:\u001b[0m invalid syntax\n"
     ]
    }
   ],
   "source": [
    "f=open(\"numbers.txt\")\n",
    "print (f.read())"
   ]
  },
  {
   "cell_type": "code",
   "execution_count": 646,
   "id": "c0767f37",
   "metadata": {},
   "outputs": [
    {
     "name": "stdout",
     "output_type": "stream",
     "text": [
      "{2: 1}\n",
      "{2: 1, 4: 1}\n",
      "{2: 1, 4: 1, 6: 1}\n",
      "{2: 1, 4: 1, 6: 1, 8: 1}\n",
      "{2: 1, 4: 2, 6: 1, 8: 1, 5: 1}\n",
      "{2: 2, 4: 2, 6: 1, 8: 1, 5: 1, 1: 1}\n",
      "{2: 2, 4: 2, 6: 1, 8: 1, 5: 1, 1: 1, 9: 1}\n",
      "{2: 2, 4: 2, 6: 1, 8: 1, 5: 1, 1: 1, 9: 1, 0: 1}\n",
      "{2: 2, 4: 3, 6: 2, 8: 1, 5: 1, 1: 1, 9: 1, 0: 1, 7: 1}\n",
      "{2: 2, 4: 4, 6: 2, 8: 1, 5: 1, 1: 1, 9: 1, 0: 1, 7: 1, 3: 1}\n",
      "{2: 3, 4: 4, 6: 2, 8: 1, 5: 1, 1: 2, 9: 2, 0: 1, 7: 1, 3: 1, 10: 1}\n"
     ]
    }
   ],
   "source": [
    "x=2,4,6,8,4,5,2,1,9,0,4,6,7,4,3,2,1,9,10,3,7,9,6,0,1,3,5,6,7,8,9,10,2,3,6,8,9,10,6,7,4,3,2,1,9,10,3,7,9,6,0,1,3,5,6,7,8,9,10,2,3,6,8,9,10,2,4,6,8,4,5,2,1,9,0,4,6,7,4,3,2,1,9,10,3,7,9,6, 4,5,2,1,9,0,4,6,7,4,3,2,1,9,10,3,7,9,6,0,1,3,5,6,7,8,9,10,2,3,6,8,9,10,6,7,4,3,6,8,4,5,2,10,3,7,9,6,0,1,3,5,6,7,8,9,10,2,3,6,8,9,10,2,4,6,8,4,5,2,1,9,0,4,6,7,4,2,4,6,8,4,5,2,1,9,0,4,6,7,4,3,2,1,9,10,3,7,9,6\n",
    "freq = {}\n",
    "for item in x:\n",
    "    if (item in freq):\n",
    "            freq[item] += 1\n",
    "    else:\n",
    "            freq[item] = 1\n",
    "            print(freq) "
   ]
  },
  {
   "cell_type": "code",
   "execution_count": 647,
   "id": "0c26e757",
   "metadata": {},
   "outputs": [
    {
     "data": {
      "text/plain": [
       "<BarContainer object of 11 artists>"
      ]
     },
     "execution_count": 647,
     "metadata": {},
     "output_type": "execute_result"
    },
    {
     "data": {
      "image/png": "[encoded data removed]",
      "text/plain": [
       "<Figure size 640x480 with 1 Axes>"
      ]
     },
     "metadata": {},
     "output_type": "display_data"
    }
   ],
   "source": [
    "import matplotlib.pyplot\n",
    "matplotlib.pyplot.bar(freq.keys(), freq)"
   ]
  },
  {
   "cell_type": "code",
   "execution_count": 648,
   "id": "1d9324b7",
   "metadata": {},
   "outputs": [],
   "source": [
    "y=json.dumps(freq)"
   ]
  },
  {
   "cell_type": "code",
   "execution_count": 649,
   "id": "4ee05060",
   "metadata": {},
   "outputs": [
    {
     "name": "stdout",
     "output_type": "stream",
     "text": [
      "{\"2\": 19, \"4\": 22, \"6\": 26, \"8\": 13, \"5\": 10, \"1\": 14, \"9\": 24, \"0\": 9, \"7\": 17, \"3\": 20, \"10\": 14}\n"
     ]
    }
   ],
   "source": [
    "print (y)"
   ]
  },
  {
   "cell_type": "code",
   "execution_count": 650,
   "id": "004da6ef",
   "metadata": {},
   "outputs": [],
   "source": [
    "tempdata = pandas.read_csv('Project_Data - Sheet1.csv')\n",
    "tempdata=tempdata.rename(columns={'Value':'Temperature'})"
   ]
  },
  {
   "cell_type": "code",
   "execution_count": 651,
   "id": "17c96c94",
   "metadata": {},
   "outputs": [
    {
     "data": {
      "text/html": [
       "<div>\n",
       "<style scoped>\n",
       "    .dataframe tbody tr th:only-of-type {\n",
       "        vertical-align: middle;\n",
       "    }\n",
       "\n",
       "    .dataframe tbody tr th {\n",
       "        vertical-align: top;\n",
       "    }\n",
       "\n",
       "    .dataframe thead th {\n",
       "        text-align: right;\n",
       "    }\n",
       "</style>\n",
       "<table border=\"1\" class=\"dataframe\">\n",
       "  <thead>\n",
       "    <tr style=\"text-align: right;\">\n",
       "      <th></th>\n",
       "      <th>Year</th>\n",
       "      <th>Temperature</th>\n",
       "    </tr>\n",
       "  </thead>\n",
       "  <tbody>\n",
       "    <tr>\n",
       "      <th>0</th>\n",
       "      <td>1895</td>\n",
       "      <td>28.7</td>\n",
       "    </tr>\n",
       "    <tr>\n",
       "      <th>1</th>\n",
       "      <td>1896</td>\n",
       "      <td>25.8</td>\n",
       "    </tr>\n",
       "    <tr>\n",
       "      <th>2</th>\n",
       "      <td>1897</td>\n",
       "      <td>34.1</td>\n",
       "    </tr>\n",
       "    <tr>\n",
       "      <th>3</th>\n",
       "      <td>1898</td>\n",
       "      <td>39.8</td>\n",
       "    </tr>\n",
       "    <tr>\n",
       "      <th>4</th>\n",
       "      <td>1899</td>\n",
       "      <td>31.1</td>\n",
       "    </tr>\n",
       "    <tr>\n",
       "      <th>...</th>\n",
       "      <td>...</td>\n",
       "      <td>...</td>\n",
       "    </tr>\n",
       "    <tr>\n",
       "      <th>123</th>\n",
       "      <td>2018</td>\n",
       "      <td>31.3</td>\n",
       "    </tr>\n",
       "    <tr>\n",
       "      <th>124</th>\n",
       "      <td>2019</td>\n",
       "      <td>32.1</td>\n",
       "    </tr>\n",
       "    <tr>\n",
       "      <th>125</th>\n",
       "      <td>2020</td>\n",
       "      <td>40.1</td>\n",
       "    </tr>\n",
       "    <tr>\n",
       "      <th>126</th>\n",
       "      <td>2021</td>\n",
       "      <td>38.2</td>\n",
       "    </tr>\n",
       "    <tr>\n",
       "      <th>127</th>\n",
       "      <td>2022</td>\n",
       "      <td>37.1</td>\n",
       "    </tr>\n",
       "  </tbody>\n",
       "</table>\n",
       "<p>128 rows × 2 columns</p>\n",
       "</div>"
      ],
      "text/plain": [
       "     Year   Temperature\n",
       "0     1895         28.7\n",
       "1     1896         25.8\n",
       "2     1897         34.1\n",
       "3     1898         39.8\n",
       "4     1899         31.1\n",
       "..     ...          ...\n",
       "123   2018         31.3\n",
       "124   2019         32.1\n",
       "125   2020         40.1\n",
       "126   2021         38.2\n",
       "127   2022         37.1\n",
       "\n",
       "[128 rows x 2 columns]"
      ]
     },
     "execution_count": 651,
     "metadata": {},
     "output_type": "execute_result"
    }
   ],
   "source": [
    "tempdata.head(148)"
   ]
  },
  {
   "cell_type": "code",
   "execution_count": 652,
   "id": "57d24a4b",
   "metadata": {},
   "outputs": [],
   "source": [
    "mean=tempdata[\"Temperature\"].mean()\n",
    "sd=tempdata[\"Temperature\"].std()\n",
    "median=tempdata[\"Temperature\"].median()\n",
    "minimum=tempdata[\"Temperature\"].min()\n",
    "maximum=tempdata[\"Temperature\"].max()"
   ]
  },
  {
   "cell_type": "code",
   "execution_count": 653,
   "id": "9e914632",
   "metadata": {},
   "outputs": [
    {
     "name": "stdout",
     "output_type": "stream",
     "text": [
      "between the years of 1895 and 2022 in Luzerne Pennsylvania, the mean of the average temperatures in March was 33.83046875 and the standard deviation from this mean was 4.224740752308075 . The lowest average temperature was 23.2 ,and the highest was 46.2 .\n"
     ]
    }
   ],
   "source": [
    "print ('between the years of 1895 and 2022 in Luzerne Pennsylvania, the mean of the average temperatures in March was', (mean), 'and the standard deviation from this mean was', (sd), '. The lowest average temperature was',(minimum), ',and the highest was', (maximum),'.' )"
   ]
  },
  {
   "cell_type": "code",
   "execution_count": 654,
   "id": "1db351f6",
   "metadata": {},
   "outputs": [
    {
     "name": "stdout",
     "output_type": "stream",
     "text": [
      "one can also break down the data by decade, as follows, starting 1895 and ending with the current, unfinished decade\n",
      "in decade 1 the mean was 32.85\n",
      "in decade 2 the mean was 33.099999999999994\n",
      "in decade 3 the mean was 34.13333333333333\n",
      "in decade 4 the mean was 32.06666666666666\n",
      "in decade 5 the mean was 34.111111111111114\n",
      "in decade 6 the mean was 31.95555555555556\n",
      "in decade 7 the mean was 33.32222222222222\n",
      "in decade 8 the mean was 34.011111111111106\n",
      "in decade 9 the mean was 34.733333333333334\n",
      "in decade 10 the mean was 35.37777777777778\n",
      "in decade 11 the mean was 35.73333333333333\n",
      "in decade 12 the mean was 35.97142857142857\n"
     ]
    }
   ],
   "source": [
    "mean1=tempdata[\"Temperature\"][0:10].mean()\n",
    "mean2=tempdata[\"Temperature\"][11:20].mean()\n",
    "mean3=tempdata[\"Temperature\"][21:30].mean()\n",
    "mean4=tempdata[\"Temperature\"][31:40].mean()\n",
    "mean4=tempdata[\"Temperature\"][41:50].mean()\n",
    "mean5=tempdata[\"Temperature\"][51:60].mean()\n",
    "mean6=tempdata[\"Temperature\"][61:70].mean()\n",
    "mean7=tempdata[\"Temperature\"][71:80].mean()\n",
    "mean8=tempdata[\"Temperature\"][81:90].mean()\n",
    "mean9=tempdata[\"Temperature\"][91:100].mean()\n",
    "mean10=tempdata[\"Temperature\"][101:110].mean()\n",
    "mean11=tempdata[\"Temperature\"][111:120].mean()\n",
    "mean12=tempdata[\"Temperature\"][121:130].mean()\n",
    "print ('one can also break down the data by decade, as follows, starting 1895 and ending with the current, unfinished decade')\n",
    "ddict= {\"decade 1\":(mean1),\"decade 2\":(mean2),\"decade 3\":(mean3),\"decade 4\":(mean4),\"decade 5\":(mean5),\"decade 6\":(mean6),\"decade 7\":(mean7), \"decade 8\":(mean8), \"decade 9\":(mean9), \"decade 10\":(mean10), \"decade 11\":(mean11),\"decade 12\":(mean12)}\n",
    "for d, m in ddict.items():\n",
    "    print ('in', (d), \"the mean was\", (m))"
   ]
  },
  {
   "cell_type": "code",
   "execution_count": 655,
   "id": "bc00e515",
   "metadata": {},
   "outputs": [
    {
     "ename": "TypeError",
     "evalue": "'dict' object is not callable",
     "output_type": "error",
     "traceback": [
      "\u001b[1;31m---------------------------------------------------------------------------\u001b[0m",
      "\u001b[1;31mTypeError\u001b[0m                                 Traceback (most recent call last)",
      "\u001b[1;32m~\\AppData\\Local\\Temp\\ipykernel_2924\\2115081704.py\u001b[0m in \u001b[0;36m<module>\u001b[1;34m\u001b[0m\n\u001b[1;32m----> 1\u001b[1;33m \u001b[0mmeandata\u001b[0m\u001b[1;33m=\u001b[0m\u001b[0mpandas\u001b[0m\u001b[1;33m.\u001b[0m\u001b[0mDataFrame\u001b[0m\u001b[1;33m(\u001b[0m\u001b[0mddict\u001b[0m\u001b[1;33m.\u001b[0m\u001b[0mitems\u001b[0m\u001b[1;33m(\u001b[0m\u001b[1;33m)\u001b[0m\u001b[1;33m)\u001b[0m\u001b[1;33m\u001b[0m\u001b[1;33m\u001b[0m\u001b[0m\n\u001b[0m\u001b[0;32m      2\u001b[0m \u001b[0mmeandata\u001b[0m\u001b[1;33m=\u001b[0m\u001b[0mmeandata\u001b[0m\u001b[1;33m.\u001b[0m\u001b[0mrename\u001b[0m\u001b[1;33m(\u001b[0m\u001b[0mcolumns\u001b[0m\u001b[1;33m=\u001b[0m\u001b[1;33m{\u001b[0m\u001b[1;34m'1'\u001b[0m\u001b[1;33m:\u001b[0m\u001b[1;34m'temperatures'\u001b[0m\u001b[1;33m}\u001b[0m\u001b[1;33m)\u001b[0m\u001b[1;33m\u001b[0m\u001b[1;33m\u001b[0m\u001b[0m\n",
      "\u001b[1;31mTypeError\u001b[0m: 'dict' object is not callable"
     ]
    }
   ],
   "source": [
    "meandata=pandas.DataFrame(ddict.items())\n",
    "meandata=meandata.rename(columns={'1':'temperatures'})"
   ]
  },
  {
   "cell_type": "code",
   "execution_count": 656,
   "id": "a080abc6",
   "metadata": {},
   "outputs": [
    {
     "data": {
      "text/html": [
       "<div>\n",
       "<style scoped>\n",
       "    .dataframe tbody tr th:only-of-type {\n",
       "        vertical-align: middle;\n",
       "    }\n",
       "\n",
       "    .dataframe tbody tr th {\n",
       "        vertical-align: top;\n",
       "    }\n",
       "\n",
       "    .dataframe thead th {\n",
       "        text-align: right;\n",
       "    }\n",
       "</style>\n",
       "<table border=\"1\" class=\"dataframe\">\n",
       "  <thead>\n",
       "    <tr style=\"text-align: right;\">\n",
       "      <th></th>\n",
       "      <th>0</th>\n",
       "      <th>1</th>\n",
       "    </tr>\n",
       "  </thead>\n",
       "  <tbody>\n",
       "    <tr>\n",
       "      <th>0</th>\n",
       "      <td>decade 1</td>\n",
       "      <td>32.850000</td>\n",
       "    </tr>\n",
       "    <tr>\n",
       "      <th>1</th>\n",
       "      <td>decade 2</td>\n",
       "      <td>33.100000</td>\n",
       "    </tr>\n",
       "    <tr>\n",
       "      <th>2</th>\n",
       "      <td>decade 3</td>\n",
       "      <td>34.133333</td>\n",
       "    </tr>\n",
       "    <tr>\n",
       "      <th>3</th>\n",
       "      <td>decade 4</td>\n",
       "      <td>32.066667</td>\n",
       "    </tr>\n",
       "    <tr>\n",
       "      <th>4</th>\n",
       "      <td>decade 5</td>\n",
       "      <td>34.111111</td>\n",
       "    </tr>\n",
       "  </tbody>\n",
       "</table>\n",
       "</div>"
      ],
      "text/plain": [
       "          0          1\n",
       "0  decade 1  32.850000\n",
       "1  decade 2  33.100000\n",
       "2  decade 3  34.133333\n",
       "3  decade 4  32.066667\n",
       "4  decade 5  34.111111"
      ]
     },
     "execution_count": 656,
     "metadata": {},
     "output_type": "execute_result"
    }
   ],
   "source": [
    "meandata.head()"
   ]
  },
  {
   "cell_type": "code",
   "execution_count": 657,
   "id": "b850186d",
   "metadata": {},
   "outputs": [
    {
     "data": {
      "image/png": "[encoded data removed]",
      "text/plain": [
       "<Figure size 640x480 with 1 Axes>"
      ]
     },
     "metadata": {},
     "output_type": "display_data"
    }
   ],
   "source": [
    "meantempplot=meandata.plot(kind='bar', x=0,y=(1), label='temperature', xlabel='decade')"
   ]
  },
  {
   "cell_type": "code",
   "execution_count": 658,
   "id": "882e3c09",
   "metadata": {},
   "outputs": [
    {
     "data": {
      "text/plain": [
       "<function matplotlib.pyplot.show(close=None, block=None)>"
      ]
     },
     "execution_count": 658,
     "metadata": {},
     "output_type": "execute_result"
    },
    {
     "data": {
      "image/png": "[encoded data removed]",
      "text/plain": [
       "<Figure size 640x480 with 1 Axes>"
      ]
     },
     "metadata": {},
     "output_type": "display_data"
    }
   ],
   "source": [
    "import matplotlib.pyplot\n",
    "barplot=tempdata.plot(kind=\"bar\", x=\"Year \", y=\"Temperature\",)\n",
    "barplot.xaxis.set_ticklabels([])\n",
    "matplotlib.pyplot.show"
   ]
  },
  {
   "cell_type": "code",
   "execution_count": 632,
   "id": "899e78d1",
   "metadata": {},
   "outputs": [],
   "source": [
    "pdata = pandas.read_csv('precipitation - Sheet1.csv')"
   ]
  },
  {
   "cell_type": "code",
   "execution_count": 633,
   "id": "d95638e3",
   "metadata": {},
   "outputs": [
    {
     "data": {
      "text/html": [
       "<div>\n",
       "<style scoped>\n",
       "    .dataframe tbody tr th:only-of-type {\n",
       "        vertical-align: middle;\n",
       "    }\n",
       "\n",
       "    .dataframe tbody tr th {\n",
       "        vertical-align: top;\n",
       "    }\n",
       "\n",
       "    .dataframe thead th {\n",
       "        text-align: right;\n",
       "    }\n",
       "</style>\n",
       "<table border=\"1\" class=\"dataframe\">\n",
       "  <thead>\n",
       "    <tr style=\"text-align: right;\">\n",
       "      <th></th>\n",
       "      <th>Year</th>\n",
       "      <th>Precipitation</th>\n",
       "    </tr>\n",
       "  </thead>\n",
       "  <tbody>\n",
       "    <tr>\n",
       "      <th>0</th>\n",
       "      <td>1895</td>\n",
       "      <td>3.23</td>\n",
       "    </tr>\n",
       "    <tr>\n",
       "      <th>1</th>\n",
       "      <td>1896</td>\n",
       "      <td>4.82</td>\n",
       "    </tr>\n",
       "    <tr>\n",
       "      <th>2</th>\n",
       "      <td>1897</td>\n",
       "      <td>4.26</td>\n",
       "    </tr>\n",
       "    <tr>\n",
       "      <th>3</th>\n",
       "      <td>1898</td>\n",
       "      <td>3.48</td>\n",
       "    </tr>\n",
       "    <tr>\n",
       "      <th>4</th>\n",
       "      <td>1899</td>\n",
       "      <td>5.36</td>\n",
       "    </tr>\n",
       "    <tr>\n",
       "      <th>...</th>\n",
       "      <td>...</td>\n",
       "      <td>...</td>\n",
       "    </tr>\n",
       "    <tr>\n",
       "      <th>123</th>\n",
       "      <td>2018</td>\n",
       "      <td>3.34</td>\n",
       "    </tr>\n",
       "    <tr>\n",
       "      <th>124</th>\n",
       "      <td>2019</td>\n",
       "      <td>3.00</td>\n",
       "    </tr>\n",
       "    <tr>\n",
       "      <th>125</th>\n",
       "      <td>2020</td>\n",
       "      <td>3.04</td>\n",
       "    </tr>\n",
       "    <tr>\n",
       "      <th>126</th>\n",
       "      <td>2021</td>\n",
       "      <td>3.25</td>\n",
       "    </tr>\n",
       "    <tr>\n",
       "      <th>127</th>\n",
       "      <td>2022</td>\n",
       "      <td>2.93</td>\n",
       "    </tr>\n",
       "  </tbody>\n",
       "</table>\n",
       "<p>128 rows × 2 columns</p>\n",
       "</div>"
      ],
      "text/plain": [
       "     Year  Precipitation\n",
       "0    1895           3.23\n",
       "1    1896           4.82\n",
       "2    1897           4.26\n",
       "3    1898           3.48\n",
       "4    1899           5.36\n",
       "..    ...            ...\n",
       "123  2018           3.34\n",
       "124  2019           3.00\n",
       "125  2020           3.04\n",
       "126  2021           3.25\n",
       "127  2022           2.93\n",
       "\n",
       "[128 rows x 2 columns]"
      ]
     },
     "execution_count": 633,
     "metadata": {},
     "output_type": "execute_result"
    }
   ],
   "source": [
    "pdata.head(130)"
   ]
  },
  {
   "cell_type": "code",
   "execution_count": 634,
   "id": "83a0da99",
   "metadata": {},
   "outputs": [],
   "source": [
    "pmean=pdata[\"Precipitation\"].mean()\n",
    "psd=pdata[\"Precipitation\"].std()\n",
    "pmedian=pdata[\"Precipitation\"].median()\n",
    "pminimum=pdata[\"Precipitation\"].min()\n",
    "pmaximum=pdata[\"Precipitation\"].max()"
   ]
  },
  {
   "cell_type": "code",
   "execution_count": 635,
   "id": "4c244611",
   "metadata": {},
   "outputs": [
    {
     "name": "stdout",
     "output_type": "stream",
     "text": [
      "Between the years of 1895 and 2022 in Luzerne, Pennsylvania, the mean of the average precipation in March was 3.3663281249999986 and the standard deviation from this mean was 1.295971876270718 . The lowest average precipitation was 0.06 ,and the highest was 7.52 .\n"
     ]
    }
   ],
   "source": [
    "print ('Between the years of 1895 and 2022 in Luzerne, Pennsylvania, the mean of the average precipation in March was', (pmean), 'and the standard deviation from this mean was', (psd), '. The lowest average precipitation was',(pminimum), ',and the highest was', (pmaximum),'.' )"
   ]
  },
  {
   "cell_type": "code",
   "execution_count": 636,
   "id": "38bcf15b",
   "metadata": {},
   "outputs": [
    {
     "data": {
      "text/plain": [
       "<function matplotlib.pyplot.show(close=None, block=None)>"
      ]
     },
     "execution_count": 636,
     "metadata": {},
     "output_type": "execute_result"
    },
    {
     "data": {
      "image/png": "[encoded data removed]",
      "text/plain": [
       "<Figure size 640x480 with 1 Axes>"
      ]
     },
     "metadata": {},
     "output_type": "display_data"
    }
   ],
   "source": [
    "import matplotlib.pyplot\n",
    "pbarplot=pdata.plot(kind=\"bar\", x=\"Year\", y=\"Precipitation\",)\n",
    "pbarplot.xaxis.set_ticklabels([])\n",
    "matplotlib.pyplot.show"
   ]
  },
  {
   "cell_type": "code",
   "execution_count": 637,
   "id": "2d4205a1",
   "metadata": {},
   "outputs": [
    {
     "name": "stdout",
     "output_type": "stream",
     "text": [
      "one can also break down the data by decade, as follows, starting 1895 and ending with the current, unfinished decade\n",
      "in decade 1 the mean was 4.329\n",
      "in decade 2 the mean was 3.7988888888888885\n",
      "in decade 3 the mean was 3.2622222222222224\n",
      "in decade 4 the mean was 3.842222222222223\n",
      "in decade 5 the mean was 3.6722222222222225\n",
      "in decade 6 the mean was 2.778888888888889\n",
      "in decade 7 the mean was 3.256666666666667\n",
      "in decade 8 the mean was 3.2955555555555556\n",
      "in decade 9 the mean was 3.414444444444444\n",
      "in decade 10 the mean was 3.132222222222222\n",
      "in decade 11 the mean was 3.0822222222222218\n",
      "in decade 12 the mean was 3.147142857142857\n"
     ]
    }
   ],
   "source": [
    "pmean1=pdata[\"Precipitation\"][0:10].mean()\n",
    "pmean2=pdata[\"Precipitation\"][11:20].mean()\n",
    "pmean3=pdata[\"Precipitation\"][21:30].mean()\n",
    "pmean4=pdata[\"Precipitation\"][31:40].mean()\n",
    "pmean4=pdata[\"Precipitation\"][41:50].mean()\n",
    "pmean5=pdata[\"Precipitation\"][51:60].mean()\n",
    "pmean6=pdata[\"Precipitation\"][61:70].mean()\n",
    "pmean7=pdata[\"Precipitation\"][71:80].mean()\n",
    "pmean8=pdata[\"Precipitation\"][81:90].mean()\n",
    "pmean9=pdata[\"Precipitation\"][91:100].mean()\n",
    "pmean10=pdata[\"Precipitation\"][101:110].mean()\n",
    "pmean11=pdata[\"Precipitation\"][111:120].mean()\n",
    "pmean12=pdata[\"Precipitation\"][121:130].mean()\n",
    "print ('one can also break down the data by decade, as follows, starting 1895 and ending with the current, unfinished decade')\n",
    "pddict= {\"decade 1\":(pmean1),\"decade 2\":(pmean2),\"decade 3\":(pmean3),\"decade 4\":(pmean4),\"decade 5\":(pmean5),\"decade 6\":(pmean6),\"decade 7\":(pmean7), \"decade 8\":(pmean8), \"decade 9\":(pmean9), \"decade 10\":(pmean10), \"decade 11\":(pmean11),\"decade 12\":(pmean12)}\n",
    "for pd, pm in pddict.items():\n",
    "    print ('in', (pd), \"the mean was\", (pm))"
   ]
  },
  {
   "cell_type": "code",
   "execution_count": 638,
   "id": "dd31abf4",
   "metadata": {},
   "outputs": [
    {
     "ename": "TypeError",
     "evalue": "'dict' object is not callable",
     "output_type": "error",
     "traceback": [
      "\u001b[1;31m---------------------------------------------------------------------------\u001b[0m",
      "\u001b[1;31mTypeError\u001b[0m                                 Traceback (most recent call last)",
      "\u001b[1;32m~\\AppData\\Local\\Temp\\ipykernel_2924\\1562551491.py\u001b[0m in \u001b[0;36m<module>\u001b[1;34m\u001b[0m\n\u001b[1;32m----> 1\u001b[1;33m \u001b[0mpmeandata\u001b[0m\u001b[1;33m=\u001b[0m\u001b[0mpandas\u001b[0m\u001b[1;33m.\u001b[0m\u001b[0mDataFrame\u001b[0m\u001b[1;33m(\u001b[0m\u001b[0mpddict\u001b[0m\u001b[1;33m.\u001b[0m\u001b[0mitems\u001b[0m\u001b[1;33m(\u001b[0m\u001b[1;33m)\u001b[0m\u001b[1;33m)\u001b[0m\u001b[1;33m\u001b[0m\u001b[1;33m\u001b[0m\u001b[0m\n\u001b[0m\u001b[0;32m      2\u001b[0m \u001b[0mpmeandata\u001b[0m\u001b[1;33m=\u001b[0m\u001b[0mpmeandata\u001b[0m\u001b[1;33m.\u001b[0m\u001b[0mrename\u001b[0m\u001b[1;33m(\u001b[0m\u001b[0mcolumns\u001b[0m\u001b[1;33m=\u001b[0m\u001b[1;33m{\u001b[0m\u001b[1;34m'1'\u001b[0m\u001b[1;33m:\u001b[0m\u001b[1;34m'precipitation'\u001b[0m\u001b[1;33m}\u001b[0m\u001b[1;33m)\u001b[0m\u001b[1;33m\u001b[0m\u001b[1;33m\u001b[0m\u001b[0m\n",
      "\u001b[1;31mTypeError\u001b[0m: 'dict' object is not callable"
     ]
    }
   ],
   "source": [
    "pmeandata=pandas.DataFrame(pddict.items())\n",
    "pmeandata=pmeandata.rename(columns={'1':'precipitation'})"
   ]
  },
  {
   "cell_type": "code",
   "execution_count": 639,
   "id": "f2e70ec2",
   "metadata": {},
   "outputs": [
    {
     "data": {
      "image/png": "[encoded data removed]",
      "text/plain": [
       "<Figure size 640x480 with 1 Axes>"
      ]
     },
     "metadata": {},
     "output_type": "display_data"
    }
   ],
   "source": [
    "meantempplot=pmeandata.plot(kind='bar', x=0,y=(1), label='precipitation', xlabel='decade')"
   ]
  },
  {
   "cell_type": "code",
   "execution_count": 640,
   "id": "97421cce",
   "metadata": {},
   "outputs": [],
   "source": [
    "templist=tempdata[\"Temperature\"]\n",
    "plist=pdata[\"Precipitation\"]\n",
    "ylist=pdata[\"Year\"]"
   ]
  },
  {
   "cell_type": "code",
   "execution_count": 641,
   "id": "a296a39e",
   "metadata": {
    "scrolled": false
   },
   "outputs": [
    {
     "data": {
      "image/png": "[encoded data removed]",
      "text/plain": [
       "<Figure size 640x480 with 1 Axes>"
      ]
     },
     "metadata": {},
     "output_type": "display_data"
    }
   ],
   "source": [
    "fig, ax = matplotlib.pyplot.subplots()\n",
    "\n",
    "ax.plot(ylist, plist)\n",
    "ax.plot(ylist, templist)\n",
    "matplotlib.pyplot.show()"
   ]
  }
 ],
 "metadata": {
  "kernelspec": {
   "display_name": "Python 3 (ipykernel)",
   "language": "python",
   "name": "python3"
  },
  "language_info": {
   "codemirror_mode": {
    "name": "ipython",
    "version": 3
   },
   "file_extension": ".py",
   "mimetype": "text/x-python",
   "name": "python",
   "nbconvert_exporter": "python",
   "pygments_lexer": "ipython3",
   "version": "3.9.13"
  }
 },
 "nbformat": 4,
 "nbformat_minor": 5
}
