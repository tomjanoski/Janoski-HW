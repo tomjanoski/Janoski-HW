{
 "cells": [
  {
   "cell_type": "code",
   "execution_count": 188,
   "id": "8dbb5570",
   "metadata": {},
   "outputs": [],
   "source": [
    "class Human:\n",
    "    eyes=2\n",
    "    legs=2\n",
    "    arms=2\n",
    "    head=1\n",
    "\n",
    "class Human:\n",
    "    def __init__(name,hair_color,height,age,sex):\n",
    "        name.hair_color= hair_color\n",
    "        name.height=height\n",
    "        name.age=age\n",
    "        name.sex=sex\n",
    "\n",
    "bob=Human(hair_color='grey',height=\"5.5\",age=\"60\",sex=\"M\")\n",
    "betty=Human(hair_color='brown',height=\"5.2\",age=\"30\",sex=\"F\")\n"
   ]
  },
  {
   "cell_type": "code",
   "execution_count": 186,
   "id": "31cb97bd",
   "metadata": {},
   "outputs": [
    {
     "name": "stdout",
     "output_type": "stream",
     "text": [
      "5.656854249492381\n"
     ]
    }
   ],
   "source": [
    "class Point:\n",
    "    def __init__ (self,x=0,y=0):\n",
    "        self.x=x\n",
    "        self.y=y\n",
    "    def dist_to_0(self):\n",
    "        print ((self.x**2+self.y**2)**.5)\n",
    "testpoint=Point(4,4)\n",
    "testpoint.dist_to_0()\n"
   ]
  },
  {
   "cell_type": "code",
   "execution_count": null,
   "id": "e82ebb92",
   "metadata": {},
   "outputs": [],
   "source": []
  }
 ],
 "metadata": {
  "kernelspec": {
   "display_name": "Python 3 (ipykernel)",
   "language": "python",
   "name": "python3"
  },
  "language_info": {
   "codemirror_mode": {
    "name": "ipython",
    "version": 3
   },
   "file_extension": ".py",
   "mimetype": "text/x-python",
   "name": "python",
   "nbconvert_exporter": "python",
   "pygments_lexer": "ipython3",
   "version": "3.9.13"
  }
 },
 "nbformat": 4,
 "nbformat_minor": 5
}
