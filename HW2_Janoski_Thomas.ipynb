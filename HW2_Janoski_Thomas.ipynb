{
 "cells": [
  {
   "cell_type": "code",
   "execution_count": 1,
   "id": "767846b5",
   "metadata": {},
   "outputs": [
    {
     "name": "stdout",
     "output_type": "stream",
     "text": [
      "0\n",
      "1\n",
      "2\n",
      "3\n",
      "4\n"
     ]
    }
   ],
   "source": [
    "#1\n",
    "n=0\n",
    "print (n)\n",
    "while n<10:\n",
    "    n=n+1\n",
    "    if n==5:\n",
    "        break\n",
    "    print (n)"
   ]
  },
  {
   "cell_type": "code",
   "execution_count": 2,
   "id": "a5e833d2",
   "metadata": {},
   "outputs": [
    {
     "name": "stdout",
     "output_type": "stream",
     "text": [
      "0\n",
      "1\n",
      "2\n",
      "3\n",
      "4\n",
      "$ 5 is not less than 5\n"
     ]
    }
   ],
   "source": [
    "#2\n",
    "n=0\n",
    "while n<5:\n",
    "    print (n)\n",
    "    n=n+1\n",
    "    if n==5:\n",
    "        print (\"$\",(n),\"is not less than 5\")"
   ]
  },
  {
   "cell_type": "code",
   "execution_count": null,
   "id": "66b618c5",
   "metadata": {},
   "outputs": [],
   "source": [
    "#3\n",
    "fruitlist= (\"bananna\",\"starfruit\",\"apple\",\"pear\")\n",
    "for fruit in fruitlist:\n",
    "    if \"apple\" in (fruit):\n",
    "        print (\"is apple really a fruit?\")\n",
    "        break\n",
    "    print (fruit)"
   ]
  },
  {
   "cell_type": "code",
   "execution_count": 19,
   "id": "6a4165a1",
   "metadata": {},
   "outputs": [
    {
     "name": "stdout",
     "output_type": "stream",
     "text": [
      "465\n"
     ]
    }
   ],
   "source": [
    "#4\n",
    "n=30\n",
    "ints=0\n",
    "sum=0\n",
    "while (ints)<=30:\n",
    "    sum=sum+ints\n",
    "    ints=ints+1\n",
    "print (sum)"
   ]
  },
  {
   "cell_type": "code",
   "execution_count": 17,
   "id": "4cd53461",
   "metadata": {},
   "outputs": [
    {
     "name": "stdout",
     "output_type": "stream",
     "text": [
      "D\n"
     ]
    }
   ],
   "source": [
    "#5\n",
    "(score)=66\n",
    "if score>=90:\n",
    "        print (\"A\")\n",
    "elif score>=80:\n",
    "        print (\"B\")\n",
    "elif score>=70:\n",
    "        print(\"C\")\n",
    "elif score>=60:\n",
    "        print (\"D\")\n",
    "elif score<90:\n",
    "        print (\"F\")   "
   ]
  },
  {
   "cell_type": "code",
   "execution_count": null,
   "id": "cd0c3b20",
   "metadata": {},
   "outputs": [],
   "source": [
    "#6\n",
    "gradedict= {\"Andy\":88,\"Amy\":66,\"James\": 90, \"Jules\": 55, \"Arthur\": 77}\n",
    "for name, grade in gradedict.items():\n",
    "    print(name,\"got a grade of\", grade)\n",
    "    \n",
    "print (sum(gradedict.values()))\n",
    "print (sum(gradedict.values())/5)\n",
    "print (max(gradedict.values()))\n",
    "print (min(gradedict.values()))\n",
    "\n",
    "for name in gradedict.keys():\n",
    "    if \"J\" in (name):\n",
    "        break\n",
    "    print (name)\n",
    "    \n",
    "    \n",
    "for name in gradedict.keys():\n",
    "    if \"J\" in (name):\n",
    "        continue\n",
    "    print (name)"
   ]
  }
 ],
 "metadata": {
  "kernelspec": {
   "display_name": "Python 3 (ipykernel)",
   "language": "python",
   "name": "python3"
  },
  "language_info": {
   "codemirror_mode": {
    "name": "ipython",
    "version": 3
   },
   "file_extension": ".py",
   "mimetype": "text/x-python",
   "name": "python",
   "nbconvert_exporter": "python",
   "pygments_lexer": "ipython3",
   "version": "3.9.13"
  }
 },
 "nbformat": 4,
 "nbformat_minor": 5
}
