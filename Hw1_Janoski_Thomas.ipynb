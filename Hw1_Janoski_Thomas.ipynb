{
 "cells": [
  {
   "cell_type": "code",
   "execution_count": 202,
   "id": "846ef24a",
   "metadata": {},
   "outputs": [
    {
     "name": "stdout",
     "output_type": "stream",
     "text": [
      "[65, 60, 55, 50, 45, 40, 35, 30]\n"
     ]
    }
   ],
   "source": [
    "rangelist=list(range(30,65,5))\n",
    "rangelist[::-1]\n",
    "rangelist.append(65)\n",
    "print(rangelist[::-1])"
   ]
  },
  {
   "cell_type": "code",
   "execution_count": 203,
   "id": "1e0a9a52",
   "metadata": {
    "scrolled": false
   },
   "outputs": [
    {
     "name": "stdout",
     "output_type": "stream",
     "text": [
      "20\n",
      "20\n",
      "1\n"
     ]
    },
    {
     "data": {
      "text/plain": [
       "210"
      ]
     },
     "execution_count": 203,
     "metadata": {},
     "output_type": "execute_result"
    }
   ],
   "source": [
    "emptylist=list()\n",
    "emptylist.extend([0,1,2,3,4,5,6,7,8,9,10,11,12,13,14,15,16,17,18,19,20,])\n",
    "emptylist.remove(0)\n",
    "print(len(emptylist))\n",
    "print(max(emptylist))\n",
    "print(min(emptylist))\n",
    "sum(emptylist)"
   ]
  },
  {
   "cell_type": "code",
   "execution_count": 204,
   "id": "d0ab9e50",
   "metadata": {},
   "outputs": [
    {
     "name": "stdout",
     "output_type": "stream",
     "text": [
      "when sunny let us play\n",
      "when rainy let us watch tv\n",
      "when cloudy let us walk\n"
     ]
    }
   ],
   "source": [
    "weatherdict= {\"sunny\": \"play\", \"rainy\":\"watch tv\",\"cloudy\":\"walk\"}\n",
    "for i in weatherdict:\n",
    "    print(\"when\",(i), \"let us\", (weatherdict[i]))\n",
    "weatherdict.update({\"snowy\":\"ski\"})"
   ]
  }
 ],
 "metadata": {
  "kernelspec": {
   "display_name": "Python 3 (ipykernel)",
   "language": "python",
   "name": "python3"
  },
  "language_info": {
   "codemirror_mode": {
    "name": "ipython",
    "version": 3
   },
   "file_extension": ".py",
   "mimetype": "text/x-python",
   "name": "python",
   "nbconvert_exporter": "python",
   "pygments_lexer": "ipython3",
   "version": "3.9.13"
  }
 },
 "nbformat": 4,
 "nbformat_minor": 5
}
