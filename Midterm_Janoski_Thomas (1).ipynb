{
 "cells": [
  {
   "cell_type": "code",
   "execution_count": 659,
   "id": "f611258d",
   "metadata": {},
   "outputs": [],
   "source": [
    "import pandas\n",
    "import json"
   ]
  },
  {
   "cell_type": "code",
   "execution_count": 661,
   "id": "87ce3c18",
   "metadata": {},
   "outputs": [
    {
     "name": "stdout",
     "output_type": "stream",
     "text": [
      "2,4,6,8,4,5,2,1,9,0,4,6,7,4,3,2,1,9,10,3,7,9,6,0,1,3,5,6,7,8,9,10,2,3,6,8,9,10,6,7,4,3\n",
      "2,1,9,10,3,7,9,6,0,1,3,5,6,7,8,9,10,2,3,6,8,9,10,2,4,6,8,4,5,2,1,9,0,4,6,7,4,3,2,1,9,10,3,7,9,6\n",
      "4,5,2,1,9,0,4,6,7,4,3,2,1,9,10,3,7,9,6,0,1,3,5,6,7,8,9,10,2,3,6,8,9,10,6,7,4,3,6,8,4,5,2\n",
      "10,3,7,9,6,0,1,3,5,6,7,8,9,10,2,3,6,8,9,10,2,4,6,8,4,5,2,1,9,0,4,6,7,4\n",
      "2,4,6,8,4,5,2,1,9,0,4,6,7,4,3,2,1,9,10,3,7,9,6\n"
     ]
    }
   ],
   "source": [
    "f=open(\"numbers.txt\")\n",
    "print (f.read())"
   ]
  },
  {
   "cell_type": "code",
   "execution_count": 646,
   "id": "c0767f37",
   "metadata": {},
   "outputs": [
    {
     "name": "stdout",
     "output_type": "stream",
     "text": [
      "{2: 1}\n",
      "{2: 1, 4: 1}\n",
      "{2: 1, 4: 1, 6: 1}\n",
      "{2: 1, 4: 1, 6: 1, 8: 1}\n",
      "{2: 1, 4: 2, 6: 1, 8: 1, 5: 1}\n",
      "{2: 2, 4: 2, 6: 1, 8: 1, 5: 1, 1: 1}\n",
      "{2: 2, 4: 2, 6: 1, 8: 1, 5: 1, 1: 1, 9: 1}\n",
      "{2: 2, 4: 2, 6: 1, 8: 1, 5: 1, 1: 1, 9: 1, 0: 1}\n",
      "{2: 2, 4: 3, 6: 2, 8: 1, 5: 1, 1: 1, 9: 1, 0: 1, 7: 1}\n",
      "{2: 2, 4: 4, 6: 2, 8: 1, 5: 1, 1: 1, 9: 1, 0: 1, 7: 1, 3: 1}\n",
      "{2: 3, 4: 4, 6: 2, 8: 1, 5: 1, 1: 2, 9: 2, 0: 1, 7: 1, 3: 1, 10: 1}\n"
     ]
    }
   ],
   "source": [
    "x=2,4,6,8,4,5,2,1,9,0,4,6,7,4,3,2,1,9,10,3,7,9,6,0,1,3,5,6,7,8,9,10,2,3,6,8,9,10,6,7,4,3,2,1,9,10,3,7,9,6,0,1,3,5,6,7,8,9,10,2,3,6,8,9,10,2,4,6,8,4,5,2,1,9,0,4,6,7,4,3,2,1,9,10,3,7,9,6, 4,5,2,1,9,0,4,6,7,4,3,2,1,9,10,3,7,9,6,0,1,3,5,6,7,8,9,10,2,3,6,8,9,10,6,7,4,3,6,8,4,5,2,10,3,7,9,6,0,1,3,5,6,7,8,9,10,2,3,6,8,9,10,2,4,6,8,4,5,2,1,9,0,4,6,7,4,2,4,6,8,4,5,2,1,9,0,4,6,7,4,3,2,1,9,10,3,7,9,6\n",
    "freq = {}\n",
    "for item in x:\n",
    "    if (item in freq):\n",
    "            freq[item] += 1\n",
    "    else:\n",
    "            freq[item] = 1\n",
    "            print(freq) "
   ]
  },
  {
   "cell_type": "code",
   "execution_count": 647,
   "id": "0c26e757",
   "metadata": {},
   "outputs": [
    {
     "data": {
      "text/plain": [
       "<BarContainer object of 11 artists>"
      ]
     },
     "execution_count": 647,
     "metadata": {},
     "output_type": "execute_result"
    },
    {
     "data": {
      "image/png": "[encoded data removed]",
      "text/plain": [
       "<Figure size 640x480 with 1 Axes>"
      ]
     },
     "metadata": {},
     "output_type": "display_data"
    }
   ],
   "source": [
    "import matplotlib.pyplot\n",
    "matplotlib.pyplot.bar(freq.keys(), freq)"
   ]
  },
  {
   "cell_type": "code",
   "execution_count": 648,
   "id": "1d9324b7",
   "metadata": {},
   "outputs": [],
   "source": [
    "y=json.dumps(freq)"
   ]
  },
  {
   "cell_type": "code",
   "execution_count": 649,
   "id": "4ee05060",
   "metadata": {},
   "outputs": [
    {
     "name": "stdout",
     "output_type": "stream",
     "text": [
      "{\"2\": 19, \"4\": 22, \"6\": 26, \"8\": 13, \"5\": 10, \"1\": 14, \"9\": 24, \"0\": 9, \"7\": 17, \"3\": 20, \"10\": 14}\n"
     ]
    }
   ],
   "source": [
    "print (y)"
   ]
  },
  {
   "cell_type": "code",
   "execution_count": 650,
   "id": "004da6ef",
   "metadata": {},
   "outputs": [],
   "source": [
    "tempdata = pandas.read_csv('Project_Data - Sheet1.csv')\n",
    "tempdata=tempdata.rename(columns={'Value':'Temperature'})"
   ]
  },
  {
   "cell_type": "code",
   "execution_count": 651,
   "id": "17c96c94",
   "metadata": {},
   "outputs": [
    {
     "data": {
      "text/html": [
       "<div>\n",
       "<style scoped>\n",
       "    .dataframe tbody tr th:only-of-type {\n",
       "        vertical-align: middle;\n",
       "    }\n",
       "\n",
       "    .dataframe tbody tr th {\n",
       "        vertical-align: top;\n",
       "    }\n",
       "\n",
       "    .dataframe thead th {\n",
       "        text-align: right;\n",
       "    }\n",
       "</style>\n",
       "<table border=\"1\" class=\"dataframe\">\n",
       "  <thead>\n",
       "    <tr style=\"text-align: right;\">\n",
       "      <th></th>\n",
       "      <th>Year</th>\n",
       "      <th>Temperature</th>\n",
       "    </tr>\n",
       "  </thead>\n",
       "  <tbody>\n",
       "    <tr>\n",
       "      <th>0</th>\n",
       "      <td>1895</td>\n",
       "      <td>28.7</td>\n",
       "    </tr>\n",
       "    <tr>\n",
       "      <th>1</th>\n",
       "      <td>1896</td>\n",
       "      <td>25.8</td>\n",
       "    </tr>\n",
       "    <tr>\n",
       "      <th>2</th>\n",
       "      <td>1897</td>\n",
       "      <td>34.1</td>\n",
       "    </tr>\n",
       "    <tr>\n",
       "      <th>3</th>\n",
       "      <td>1898</td>\n",
       "      <td>39.8</td>\n",
       "    </tr>\n",
       "    <tr>\n",
       "      <th>4</th>\n",
       "      <td>1899</td>\n",
       "      <td>31.1</td>\n",
       "    </tr>\n",
       "    <tr>\n",
       "      <th>...</th>\n",
       "      <td>...</td>\n",
       "      <td>...</td>\n",
       "    </tr>\n",
       "    <tr>\n",
       "      <th>123</th>\n",
       "      <td>2018</td>\n",
       "      <td>31.3</td>\n",
       "    </tr>\n",
       "    <tr>\n",
       "      <th>124</th>\n",
       "      <td>2019</td>\n",
       "      <td>32.1</td>\n",
       "    </tr>\n",
       "    <tr>\n",
       "      <th>125</th>\n",
       "      <td>2020</td>\n",
       "      <td>40.1</td>\n",
       "    </tr>\n",
       "    <tr>\n",
       "      <th>126</th>\n",
       "      <td>2021</td>\n",
       "      <td>38.2</td>\n",
       "    </tr>\n",
       "    <tr>\n",
       "      <th>127</th>\n",
       "      <td>2022</td>\n",
       "      <td>37.1</td>\n",
       "    </tr>\n",
       "  </tbody>\n",
       "</table>\n",
       "<p>128 rows × 2 columns</p>\n",
       "</div>"
      ],
      "text/plain": [
       "     Year   Temperature\n",
       "0     1895         28.7\n",
       "1     1896         25.8\n",
       "2     1897         34.1\n",
       "3     1898         39.8\n",
       "4     1899         31.1\n",
       "..     ...          ...\n",
       "123   2018         31.3\n",
       "124   2019         32.1\n",
       "125   2020         40.1\n",
       "126   2021         38.2\n",
       "127   2022         37.1\n",
       "\n",
       "[128 rows x 2 columns]"
      ]
     },
     "execution_count": 651,
     "metadata": {},
     "output_type": "execute_result"
    }
   ],
   "source": [
    "tempdata.head(148)"
   ]
  },
  {
   "cell_type": "code",
   "execution_count": 652,
   "id": "57d24a4b",
   "metadata": {},
   "outputs": [],
   "source": [
    "mean=tempdata[\"Temperature\"].mean()\n",
    "sd=tempdata[\"Temperature\"].std()\n",
    "median=tempdata[\"Temperature\"].median()\n",
    "minimum=tempdata[\"Temperature\"].min()\n",
    "maximum=tempdata[\"Temperature\"].max()"
   ]
  },
  {
   "cell_type": "code",
   "execution_count": 653,
   "id": "9e914632",
   "metadata": {},
   "outputs": [
    {
     "name": "stdout",
     "output_type": "stream",
     "text": [
      "between the years of 1895 and 2022 in Luzerne Pennsylvania, the mean of the average temperatures in March was 33.83046875 and the standard deviation from this mean was 4.224740752308075 . The lowest average temperature was 23.2 ,and the highest was 46.2 .\n"
     ]
    }
   ],
   "source": [
    "print ('between the years of 1895 and 2022 in Luzerne Pennsylvania, the mean of the average temperatures in March was', (mean), 'and the standard deviation from this mean was', (sd), '. The lowest average temperature was',(minimum), ',and the highest was', (maximum),'.' )"
   ]
  },
  {
   "cell_type": "code",
   "execution_count": 666,
   "id": "882e3c09",
   "metadata": {},
   "outputs": [
    {
     "data": {
      "text/plain": [
       "<function matplotlib.pyplot.show(close=None, block=None)>"
      ]
     },
     "execution_count": 666,
     "metadata": {},
     "output_type": "execute_result"
    },
    {
     "data": {
      "image/png": "[encoded data removed]",
      "text/plain": [
       "<Figure size 640x480 with 1 Axes>"
      ]
     },
     "metadata": {},
     "output_type": "display_data"
    }
   ],
   "source": [
    "import matplotlib.pyplot\n",
    "barplot=tempdata.plot(kind=\"bar\", x=\"Year \", y=\"Temperature\",)\n",
    "barplot.xaxis.set_ticklabels([])\n",
    "matplotlib.pyplot.show"
   ]
  },
  {
   "cell_type": "code",
   "execution_count": 667,
   "id": "899e78d1",
   "metadata": {},
   "outputs": [],
   "source": [
    "pdata = pandas.read_csv('precipitation - Sheet1.csv')"
   ]
  },
  {
   "cell_type": "code",
   "execution_count": 668,
   "id": "d95638e3",
   "metadata": {},
   "outputs": [
    {
     "data": {
      "text/html": [
       "<div>\n",
       "<style scoped>\n",
       "    .dataframe tbody tr th:only-of-type {\n",
       "        vertical-align: middle;\n",
       "    }\n",
       "\n",
       "    .dataframe tbody tr th {\n",
       "        vertical-align: top;\n",
       "    }\n",
       "\n",
       "    .dataframe thead th {\n",
       "        text-align: right;\n",
       "    }\n",
       "</style>\n",
       "<table border=\"1\" class=\"dataframe\">\n",
       "  <thead>\n",
       "    <tr style=\"text-align: right;\">\n",
       "      <th></th>\n",
       "      <th>Year</th>\n",
       "      <th>Precipitation</th>\n",
       "    </tr>\n",
       "  </thead>\n",
       "  <tbody>\n",
       "    <tr>\n",
       "      <th>0</th>\n",
       "      <td>1895</td>\n",
       "      <td>3.23</td>\n",
       "    </tr>\n",
       "    <tr>\n",
       "      <th>1</th>\n",
       "      <td>1896</td>\n",
       "      <td>4.82</td>\n",
       "    </tr>\n",
       "    <tr>\n",
       "      <th>2</th>\n",
       "      <td>1897</td>\n",
       "      <td>4.26</td>\n",
       "    </tr>\n",
       "    <tr>\n",
       "      <th>3</th>\n",
       "      <td>1898</td>\n",
       "      <td>3.48</td>\n",
       "    </tr>\n",
       "    <tr>\n",
       "      <th>4</th>\n",
       "      <td>1899</td>\n",
       "      <td>5.36</td>\n",
       "    </tr>\n",
       "    <tr>\n",
       "      <th>...</th>\n",
       "      <td>...</td>\n",
       "      <td>...</td>\n",
       "    </tr>\n",
       "    <tr>\n",
       "      <th>123</th>\n",
       "      <td>2018</td>\n",
       "      <td>3.34</td>\n",
       "    </tr>\n",
       "    <tr>\n",
       "      <th>124</th>\n",
       "      <td>2019</td>\n",
       "      <td>3.00</td>\n",
       "    </tr>\n",
       "    <tr>\n",
       "      <th>125</th>\n",
       "      <td>2020</td>\n",
       "      <td>3.04</td>\n",
       "    </tr>\n",
       "    <tr>\n",
       "      <th>126</th>\n",
       "      <td>2021</td>\n",
       "      <td>3.25</td>\n",
       "    </tr>\n",
       "    <tr>\n",
       "      <th>127</th>\n",
       "      <td>2022</td>\n",
       "      <td>2.93</td>\n",
       "    </tr>\n",
       "  </tbody>\n",
       "</table>\n",
       "<p>128 rows × 2 columns</p>\n",
       "</div>"
      ],
      "text/plain": [
       "     Year  Precipitation\n",
       "0    1895           3.23\n",
       "1    1896           4.82\n",
       "2    1897           4.26\n",
       "3    1898           3.48\n",
       "4    1899           5.36\n",
       "..    ...            ...\n",
       "123  2018           3.34\n",
       "124  2019           3.00\n",
       "125  2020           3.04\n",
       "126  2021           3.25\n",
       "127  2022           2.93\n",
       "\n",
       "[128 rows x 2 columns]"
      ]
     },
     "execution_count": 668,
     "metadata": {},
     "output_type": "execute_result"
    }
   ],
   "source": [
    "pdata.head(130)"
   ]
  },
  {
   "cell_type": "code",
   "execution_count": 634,
   "id": "83a0da99",
   "metadata": {},
   "outputs": [],
   "source": [
    "pmean=pdata[\"Precipitation\"].mean()\n",
    "psd=pdata[\"Precipitation\"].std()\n",
    "pmedian=pdata[\"Precipitation\"].median()\n",
    "pminimum=pdata[\"Precipitation\"].min()\n",
    "pmaximum=pdata[\"Precipitation\"].max()"
   ]
  },
  {
   "cell_type": "code",
   "execution_count": 635,
   "id": "4c244611",
   "metadata": {},
   "outputs": [
    {
     "name": "stdout",
     "output_type": "stream",
     "text": [
      "Between the years of 1895 and 2022 in Luzerne, Pennsylvania, the mean of the average precipation in March was 3.3663281249999986 and the standard deviation from this mean was 1.295971876270718 . The lowest average precipitation was 0.06 ,and the highest was 7.52 .\n"
     ]
    }
   ],
   "source": [
    "print ('Between the years of 1895 and 2022 in Luzerne, Pennsylvania, the mean of the average precipation in March was', (pmean), 'and the standard deviation from this mean was', (psd), '. The lowest average precipitation was',(pminimum), ',and the highest was', (pmaximum),'.' )"
   ]
  },
  {
   "cell_type": "code",
   "execution_count": 636,
   "id": "38bcf15b",
   "metadata": {},
   "outputs": [
    {
     "data": {
      "text/plain": [
       "<function matplotlib.pyplot.show(close=None, block=None)>"
      ]
     },
     "execution_count": 636,
     "metadata": {},
     "output_type": "execute_result"
    },
    {
     "data": {
      "image/png": "[encoded data removed]",
      "text/plain": [
       "<Figure size 640x480 with 1 Axes>"
      ]
     },
     "metadata": {},
     "output_type": "display_data"
    }
   ],
   "source": [
    "import matplotlib.pyplot\n",
    "pbarplot=pdata.plot(kind=\"bar\", x=\"Year\", y=\"Precipitation\",)\n",
    "pbarplot.xaxis.set_ticklabels([])\n",
    "matplotlib.pyplot.show"
   ]
  },
  {
   "cell_type": "code",
   "execution_count": 672,
   "id": "97421cce",
   "metadata": {},
   "outputs": [
    {
     "data": {
      "text/html": [
       "<div>\n",
       "<style scoped>\n",
       "    .dataframe tbody tr th:only-of-type {\n",
       "        vertical-align: middle;\n",
       "    }\n",
       "\n",
       "    .dataframe tbody tr th {\n",
       "        vertical-align: top;\n",
       "    }\n",
       "\n",
       "    .dataframe thead th {\n",
       "        text-align: right;\n",
       "    }\n",
       "</style>\n",
       "<table border=\"1\" class=\"dataframe\">\n",
       "  <thead>\n",
       "    <tr style=\"text-align: right;\">\n",
       "      <th></th>\n",
       "      <th>0</th>\n",
       "      <th>1</th>\n",
       "    </tr>\n",
       "  </thead>\n",
       "  <tbody>\n",
       "    <tr>\n",
       "      <th>0</th>\n",
       "      <td>decade 1</td>\n",
       "      <td>4.329000</td>\n",
       "    </tr>\n",
       "    <tr>\n",
       "      <th>1</th>\n",
       "      <td>decade 2</td>\n",
       "      <td>3.798889</td>\n",
       "    </tr>\n",
       "    <tr>\n",
       "      <th>2</th>\n",
       "      <td>decade 3</td>\n",
       "      <td>3.262222</td>\n",
       "    </tr>\n",
       "    <tr>\n",
       "      <th>3</th>\n",
       "      <td>decade 4</td>\n",
       "      <td>3.842222</td>\n",
       "    </tr>\n",
       "    <tr>\n",
       "      <th>4</th>\n",
       "      <td>decade 5</td>\n",
       "      <td>3.672222</td>\n",
       "    </tr>\n",
       "  </tbody>\n",
       "</table>\n",
       "</div>"
      ],
      "text/plain": [
       "          0         1\n",
       "0  decade 1  4.329000\n",
       "1  decade 2  3.798889\n",
       "2  decade 3  3.262222\n",
       "3  decade 4  3.842222\n",
       "4  decade 5  3.672222"
      ]
     },
     "execution_count": 672,
     "metadata": {},
     "output_type": "execute_result"
    }
   ],
   "source": [
    "templist=tempdata[\"Temperature\"]\n",
    "plist=pdata[\"Precipitation\"]\n",
    "ylist=pdata[\"Year\"]"
   ]
  },
  {
   "cell_type": "code",
   "execution_count": 641,
   "id": "a296a39e",
   "metadata": {
    "scrolled": false
   },
   "outputs": [
    {
     "data": {
      "image/png": "[encoded data removed]",
      "text/plain": [
       "<Figure size 640x480 with 1 Axes>"
      ]
     },
     "metadata": {},
     "output_type": "display_data"
    }
   ],
   "source": [
    "fig, ax = matplotlib.pyplot.subplots()\n",
    "\n",
    "ax.plot(ylist, plist)\n",
    "ax.plot(ylist, templist)\n",
    "matplotlib.pyplot.show()"
   ]
  }
 ],
 "metadata": {
  "kernelspec": {
   "display_name": "Python 3 (ipykernel)",
   "language": "python",
   "name": "python3"
  },
  "language_info": {
   "codemirror_mode": {
    "name": "ipython",
    "version": 3
   },
   "file_extension": ".py",
   "mimetype": "text/x-python",
   "name": "python",
   "nbconvert_exporter": "python",
   "pygments_lexer": "ipython3",
   "version": "3.9.13"
  }
 },
 "nbformat": 4,
 "nbformat_minor": 5
}
